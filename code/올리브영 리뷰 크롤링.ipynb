{
 "cells": [
  {
   "attachments": {},
   "cell_type": "markdown",
   "id": "2bc52dca",
   "metadata": {},
   "source": [
    "## 1. import 및 크롬 드라이버 실행\n",
    "- 크롬 드라이버는 두 옵션 중 하나만 실행해주세요"
   ]
  },
  {
   "cell_type": "code",
   "execution_count": null,
   "id": "46d5f54b",
   "metadata": {},
   "outputs": [],
   "source": [
    "from selenium import webdriver\n",
    "from bs4 import BeautifulSoup\n",
    "import pandas as pd\n",
    "from selenium.webdriver.common.keys import Keys\n",
    "from selenium.webdriver.common.by import By\n",
    "import time\n",
    "import pyperclip\n",
    "from tqdm import tqdm\n",
    "import numpy as np\n",
    "from datetime import datetime\n",
    "import re  \n",
    "import math"
   ]
  },
  {
   "cell_type": "code",
   "execution_count": null,
   "id": "f9921c3d",
   "metadata": {},
   "outputs": [],
   "source": [
    "driver=webdriver.Chrome()"
   ]
  },
  {
   "cell_type": "code",
   "execution_count": null,
   "id": "f7b09bc7",
   "metadata": {},
   "outputs": [],
   "source": [
    "#Colab에선 웹브라우저 창이 뜨지 않으므로 별도 설정한다.\n",
    " \n",
    "options = webdriver.ChromeOptions()\n",
    "options.add_argument('--headless')        # Head-less 설정\n",
    "options.add_argument('--no-sandbox')\n",
    "options.add_argument('--disable-dev-shm-usage')\n",
    "driver = webdriver.Chrome('chromedriver', options=options)"
   ]
  },
  {
   "attachments": {},
   "cell_type": "markdown",
   "id": "e4b1b89e",
   "metadata": {},
   "source": [
    "## 2. 상품 랭킹 페이지 -> 상품별 url 추출\n",
    "- https://www.oliveyoung.co.kr/store/main/getBestList.do"
   ]
  },
  {
   "cell_type": "code",
   "execution_count": null,
   "id": "5111079c",
   "metadata": {},
   "outputs": [],
   "source": [
    "driver=webdriver.Chrome()\n",
    "url='https://www.oliveyoung.co.kr/store/main/getBestList.do' #상품 랭킹 페이지\n",
    "driver.get(url)\n",
    "\n",
    "\n",
    "html = driver.page_source\n",
    "soup = BeautifulSoup(html, 'html.parser')"
   ]
  },
  {
   "cell_type": "code",
   "execution_count": null,
   "id": "2cb0c969",
   "metadata": {},
   "outputs": [],
   "source": [
    "items=soup.select('.cate_prd_list')"
   ]
  },
  {
   "cell_type": "code",
   "execution_count": null,
   "id": "e71a2bed",
   "metadata": {},
   "outputs": [],
   "source": [
    "product_info=[]\n",
    "for i in range(len(items)):\n",
    "    tmp_list=items[i].select('.prd_info')\n",
    "    for j in range(len(tmp_list)):\n",
    "        product_name=items[i].select('.prd_info')[j].select('.tx_name')[0].text\n",
    "        product_url=items[i].select('.prd_info')[j].select('.prd_thumb.goodsList')[0]['href']\n",
    "        product_info.append([product_name, product_url])"
   ]
  },
  {
   "cell_type": "code",
   "execution_count": null,
   "id": "515a9ffd",
   "metadata": {},
   "outputs": [],
   "source": [
    "product_df=pd.DataFrame(product_info, columns=['product_name', 'product_url'])\n",
    "product_df['date']=datetime.today().strftime(\"%Y.%m.%d\")"
   ]
  },
  {
   "cell_type": "code",
   "execution_count": null,
   "id": "8bc08120",
   "metadata": {},
   "outputs": [],
   "source": [
    "product_df.to_csv('product_df.csv', index=False)\n",
    "product_df=pd.read_csv('product_df.csv')"
   ]
  },
  {
   "cell_type": "markdown",
   "id": "1e55bef5",
   "metadata": {},
   "source": [
    "## 상품페이지 -> 사용자 정보 추출"
   ]
  },
  {
   "cell_type": "markdown",
   "id": "a2c76588",
   "metadata": {},
   "source": [
    "### 제품 리뷰 페이지에서 사용자 정보 크롤링\n",
    "- 사용자 정보: 유저 네임, 유저 페이지url"
   ]
  },
  {
   "cell_type": "code",
   "execution_count": null,
   "id": "6b6f6267",
   "metadata": {},
   "outputs": [],
   "source": [
    "def real_crawling():\n",
    "    tmp_list=[]\n",
    "    html = driver.page_source\n",
    "    soup = BeautifulSoup(html, 'html.parser')\n",
    "    for a in range(len(soup.select('.inner_list>li'))):\n",
    "        user_name=soup.select('.inner_list>li')[a].select('.info_user>.id')[0].text\n",
    "        user_key=soup.select('.inner_list>li')[a].select('.user.clrfix>a')[0]['onclick'].split(\"'\")[1]\n",
    "        user_url='https://www.oliveyoung.co.kr/store/mypage/getReviewerProfile.do?key=' + user_key\n",
    "#         review_point=soup.select('.inner_list>li')[a].select('.point')[0].text.split(' ')[-1]\n",
    "#         review_date=soup.select('.inner_list>li')[a].select('.date')[0].text\n",
    "#         review_text=soup.select('.inner_list>li')[a].select('.txt_inner')[0].text\n",
    "#         review_referral=soup.select('.inner_list>li')[a].select('.num')[0].text.strip() \n",
    "        tmp_list.append([user_name, user_url])\n",
    "    return tmp_list"
   ]
  },
  {
   "cell_type": "markdown",
   "id": "4bb7635c",
   "metadata": {},
   "source": [
    "### 페이지 넘기면서 2.1 크롤링 실행 "
   ]
  },
  {
   "cell_type": "code",
   "execution_count": null,
   "id": "ee5f784c",
   "metadata": {},
   "outputs": [],
   "source": [
    "def crawling(product_df):\n",
    "    product_review_df=pd.DataFrame()\n",
    "    for d in tqdm(range(len(product_df))):\n",
    "        product_name=product_df.iloc[d]['product_name']\n",
    "        url=product_df.iloc[d]['product_url']\n",
    "        driver.get(url)\n",
    "        time.sleep(1)\n",
    "\n",
    "        # 리뷰 버튼 클릭\n",
    "        driver.find_element(By.ID, value=\"reviewInfo\").click()\n",
    "        time.sleep(1)\n",
    "        \n",
    "        # 리뷰 수 저장\n",
    "        html = driver.page_source\n",
    "        soup = BeautifulSoup(html, 'html.parser')\n",
    "        review_cnt=int(soup.select('.goods_reputation')[0].text.split('(')[1].split(')')[0].replace(',', ''))\n",
    "        \n",
    "        # 상품별 리뷰 추출\n",
    "        review_list=[]\n",
    "        if review_cnt==0:\n",
    "            pass\n",
    "        \n",
    "        elif review_cnt>=1000:\n",
    "            for j in range(0, 9):\n",
    "                if j == 0: # 우선 첫페이지 (1)에 대해 크롤링 (1~10페이지)\n",
    "                    # 2페이지부터 다음페이지까지 클릭하면서 각 페이지크롤링\n",
    "                    for i in range(1, 11):\n",
    "                        tmp_list=real_crawling()\n",
    "                        review_list.extend(tmp_list)\n",
    "                        time.sleep(1)\n",
    "                        try:\n",
    "                            try: # 제품마다 xpath값에 차이가 있어서 구분함\n",
    "                                page_box = driver.find_element(By.XPATH,'//*[@id=\"gdasContentsArea\"]/div/div[7]/'+'a['+str(i)+']')\n",
    "                            except:\n",
    "                                page_box = driver.find_element(By.XPATH,'//*[@id=\"gdasContentsArea\"]/div/div[8]/'+'a['+str(i)+']')\n",
    "                            page_box.click()\n",
    "                        except:\n",
    "                            pass\n",
    "                        \n",
    "                        \n",
    "                elif j !=  9: #첫 페이지, 마지막 페이지가 아닌 경우 (페이지 11 이후)\n",
    "                    for i in range(2, 12):\n",
    "                        tmp_list=real_crawling()\n",
    "                        review_list.extend(tmp_list)\n",
    "                        time.sleep(1)\n",
    "                        try:\n",
    "                            try:\n",
    "                                page_box = driver.find_element(By.XPATH,'//*[@id=\"gdasContentsArea\"]/div/div[7]/'+'a['+str(i)+']')\n",
    "                            except:\n",
    "                                page_box = driver.find_element(By.XPATH,'//*[@id=\"gdasContentsArea\"]/div/div[8]/'+'a['+str(i)+']')\n",
    "                            page_box.click()\n",
    "                        except:\n",
    "                            pass\n",
    "                \n",
    "                else: # 마지막페이지의 경우 (넘어가기 인덱스 삭제)\n",
    "                    for i in range(2, 11):\n",
    "                        tmp_list=real_crawling()\n",
    "                        review_list.extend(tmp_list)\n",
    "                        time.sleep(1)\n",
    "                        try:\n",
    "                            if i!=10:\n",
    "                                try: # 제품마다 xpath값에 차이가 있어서 구분함\n",
    "                                    page_box = driver.find_element(By.XPATH,'//*[@id=\"gdasContentsArea\"]/div/div[7]/'+'a['+str(i)+']')\n",
    "                                except:\n",
    "                                    page_box = driver.find_element(By.XPATH,'//*[@id=\"gdasContentsArea\"]/div/div[8]/'+'a['+str(i)+']')\n",
    "                                page_box.click()      \n",
    "                        except:\n",
    "                            pass\n",
    "                       \n",
    "        else:\n",
    "            page_limit=math.ceil(review_cnt/10)\n",
    "            next_page_cnt=page_limit//10\n",
    "            for j in range(0, next_page_cnt+1):\n",
    "                if j == 0: # 우선 첫페이지 (1)에 대해 크롤링\n",
    "                    # 2페이지부터 다음페이지까지 클릭하면서 각 페이지크롤링\n",
    "                    for i in range(1, 11):\n",
    "                        tmp_list=real_crawling()\n",
    "                        review_list.extend(tmp_list)\n",
    "                        time.sleep(1)\n",
    "                        try:\n",
    "                            try: # 제품마다 xpath값에 차이가 있어서 구분함\n",
    "                                page_box = driver.find_element(By.XPATH,'//*[@id=\"gdasContentsArea\"]/div/div[7]/'+'a['+str(i)+']')\n",
    "                            except:\n",
    "                                page_box = driver.find_element(By.XPATH,'//*[@id=\"gdasContentsArea\"]/div/div[8]/'+'a['+str(i)+']')\n",
    "                            page_box.click()\n",
    "                        except:\n",
    "                            pass\n",
    "                        \n",
    "                        \n",
    "                elif j !=  next_page_cnt: #첫 페이지, 마지막 페이지가 아닌 경우 (페이지 11 이후)\n",
    "                    for i in range(2, 12):\n",
    "                        tmp_list=real_crawling()\n",
    "                        review_list.extend(tmp_list)\n",
    "                        time.sleep(1)\n",
    "                        try:\n",
    "                            try:\n",
    "                                page_box = driver.find_element(By.XPATH,'//*[@id=\"gdasContentsArea\"]/div/div[7]/'+'a['+str(i)+']')\n",
    "                            except:\n",
    "                                page_box = driver.find_element(By.XPATH,'//*[@id=\"gdasContentsArea\"]/div/div[8]/'+'a['+str(i)+']')\n",
    "                            page_box.click()\n",
    "                        except:\n",
    "                            pass\n",
    "                \n",
    "                else: # 마지막페이지의 경우 (넘어가기 인덱스 삭제)\n",
    "                    for i in range(2, page_limit%10+2):\n",
    "                        tmp_list=real_crawling()\n",
    "                        review_list.extend(tmp_list)\n",
    "                        time.sleep(1)\n",
    "                        try:\n",
    "                            if i!=page_limit%10+1:\n",
    "                                try: # 제품마다 xpath값에 차이가 있어서 구분함\n",
    "                                    page_box = driver.find_element(By.XPATH,'//*[@id=\"gdasContentsArea\"]/div/div[7]/'+'a['+str(i)+']')\n",
    "                                except:\n",
    "                                    page_box = driver.find_element(By.XPATH,'//*[@id=\"gdasContentsArea\"]/div/div[8]/'+'a['+str(i)+']')\n",
    "                                page_box.click() \n",
    "                        except:\n",
    "                            pass\n",
    "\n",
    "        review_user_df=pd.DataFrame(review_list, columns=['user_name','user_url'])\n",
    "        \n",
    "        product_review_df=pd.concat([product_review_df, review_user_df])\n",
    "    product_review_df.reset_index(inplace=True, drop=True) # 인덱스 초기화    \n",
    "    \n",
    "    return product_review_df\n"
   ]
  },
  {
   "cell_type": "markdown",
   "id": "4c2e07c8",
   "metadata": {},
   "source": [
    "### 에러 대응하기 위해 10개 제품씩 나눠서 진행"
   ]
  },
  {
   "cell_type": "code",
   "execution_count": null,
   "id": "3c922c8a",
   "metadata": {},
   "outputs": [],
   "source": [
    "df1=product_df[:10]\n",
    "df2=product_df[10:20]\n",
    "df3=product_df[20:30]\n",
    "df4=product_df[30:40]\n",
    "df5=product_df[40:50]\n",
    "df6=product_df[50:60]\n",
    "df7=product_df[60:70]\n",
    "df8=product_df[70:80]\n",
    "df9=product_df[80:90]\n",
    "df10=product_df[90:]"
   ]
  },
  {
   "cell_type": "markdown",
   "id": "ea79080e",
   "metadata": {},
   "source": [
    "### 크롤링 및 저장"
   ]
  },
  {
   "cell_type": "code",
   "execution_count": null,
   "id": "31d00bc9",
   "metadata": {},
   "outputs": [],
   "source": [
    "driver=webdriver.Chrome()"
   ]
  },
  {
   "cell_type": "code",
   "execution_count": null,
   "id": "46a271d6",
   "metadata": {
    "scrolled": false
   },
   "outputs": [],
   "source": [
    "# product_review_df1=crawling(df1)\n",
    "\n",
    "# product_review_df1.to_csv('user_data/product_review_df1.csv', index=False)\n",
    "\n",
    "# product_review_df2=crawling(df2)\n",
    "# product_review_df2.to_csv('user_data/product_review_df2.csv', index=False)\n",
    "\n",
    "# product_review_df3=crawling(df3)\n",
    "# product_review_df3.to_csv('user_data/product_review_df3.csv', index=False)\n",
    "\n",
    "# product_review_df4=crawling(df4)\n",
    "# product_review_df4.to_csv('user_data/product_review_df4.csv', index=False)\n",
    "\n",
    "# product_review_df5=crawling(df5)\n",
    "# product_review_df5.to_csv('user_data/product_review_df5.csv', index=False)\n",
    "\n",
    "# product_review_df6=crawling(df6)\n",
    "# product_review_df6.to_csv('user_data/product_review_df6.csv', index=False)\n",
    "\n",
    "# product_review_df10=crawling(df10)\n",
    "# product_review_df10.to_csv('user_data/product_review_df10.csv', index=False)"
   ]
  },
  {
   "attachments": {},
   "cell_type": "markdown",
   "id": "20f7876a",
   "metadata": {},
   "source": [
    "## 각 유저별 프로필 페이지에서 리뷰 크롤링"
   ]
  },
  {
   "attachments": {},
   "cell_type": "markdown",
   "id": "4ff7809d",
   "metadata": {},
   "source": [
    "### user_df 불러오기, 합치기, 중복 제거"
   ]
  },
  {
   "cell_type": "code",
   "execution_count": null,
   "id": "2f6a0a0d",
   "metadata": {},
   "outputs": [],
   "source": [
    "from glob import glob"
   ]
  },
  {
   "cell_type": "code",
   "execution_count": null,
   "id": "94215b22",
   "metadata": {},
   "outputs": [
    {
     "data": {
      "text/plain": [
       "['user_data\\\\product_review_df1.csv',\n",
       " 'user_data\\\\product_review_df10.csv',\n",
       " 'user_data\\\\product_review_df2.csv',\n",
       " 'user_data\\\\product_review_df3.csv',\n",
       " 'user_data\\\\product_review_df4.csv',\n",
       " 'user_data\\\\product_review_df5.csv',\n",
       " 'user_data\\\\product_review_df6.csv',\n",
       " 'user_data\\\\product_review_df7.csv',\n",
       " 'user_data\\\\product_review_df8.csv',\n",
       " 'user_data\\\\product_review_df9.csv']"
      ]
     },
     "execution_count": 59,
     "metadata": {},
     "output_type": "execute_result"
    }
   ],
   "source": [
    "df_list = sorted(glob(\"user_data/*.csv\"))"
   ]
  },
  {
   "cell_type": "code",
   "execution_count": null,
   "id": "5b78347b",
   "metadata": {},
   "outputs": [],
   "source": [
    "total=pd.DataFrame()\n",
    "for i in range(0, len(df_list)):\n",
    "    tmp=pd.read_csv(df_list[i])\n",
    "    total=pd.concat([total, tmp])"
   ]
  },
  {
   "cell_type": "code",
   "execution_count": null,
   "id": "3bf292cc",
   "metadata": {
    "scrolled": true
   },
   "outputs": [
    {
     "data": {
      "text/plain": [
       "(79280, 36762)"
      ]
     },
     "execution_count": 70,
     "metadata": {},
     "output_type": "execute_result"
    }
   ],
   "source": [
    "total.shape[0], total.user_url.nunique()"
   ]
  },
  {
   "cell_type": "code",
   "execution_count": null,
   "id": "61b6f155",
   "metadata": {},
   "outputs": [],
   "source": [
    "total=total.groupby(['user_name','user_url']).count()\n",
    "total.reset_index(inplace=True)"
   ]
  },
  {
   "attachments": {},
   "cell_type": "markdown",
   "id": "46416143",
   "metadata": {},
   "source": [
    "### total 저장 및 불러오기"
   ]
  },
  {
   "cell_type": "code",
   "execution_count": null,
   "id": "46641677",
   "metadata": {},
   "outputs": [],
   "source": [
    "# total.to_csv('total.csv',index=False)"
   ]
  },
  {
   "cell_type": "code",
   "execution_count": null,
   "id": "0dc8e1f7",
   "metadata": {
    "scrolled": true
   },
   "outputs": [],
   "source": [
    "total=pd.read_csv('total.csv')\n",
    "user_list=list(total['user_url'])"
   ]
  },
  {
   "attachments": {},
   "cell_type": "markdown",
   "id": "26de2a24",
   "metadata": {},
   "source": [
    "### 리뷰 크롤링 코드"
   ]
  },
  {
   "cell_type": "code",
   "execution_count": null,
   "id": "7af38957",
   "metadata": {},
   "outputs": [],
   "source": [
    "def user_review_crawling(user_list):\n",
    "    review_data=pd.DataFrame()\n",
    "    for i in tqdm(user_list):\n",
    "        url = i\n",
    "        driver.get(url)\n",
    "        \n",
    "        # 프로필 비공개한 유저 pass\n",
    "        html = driver.page_source\n",
    "        soup3 = BeautifulSoup(html, 'html.parser')\n",
    "        rv_num = soup3.find('div', {\"class\":\"reviewer-profile-content__header\"})   \n",
    "        if str(type(rv_num))==\"<class 'bs4.element.Tag'>\" and rv_num.select('div>span')[0].text.strip()!='-':\n",
    "            last_height = driver.execute_script(\"return document.body.scrollHeight\")\n",
    "            while True:\n",
    "                driver.execute_script(\"window.scrollTo(0, document.body.scrollHeight);\")\n",
    "                time.sleep(1)  # 로딩을 기다립니다.\n",
    "                new_height = driver.execute_script(\"return document.body.scrollHeight\")\n",
    "                if new_height == last_height:\n",
    "                    break\n",
    "                last_height = new_height\n",
    "\n",
    "            html = driver.page_source\n",
    "            soup3 = BeautifulSoup(html, 'html.parser')\n",
    "\n",
    "            # 리뷰어 이름\n",
    "            rv_name = soup3.select('.id.my-profile.on>strong')   # [Ctrl + Shift + I]로 코드 확인 가능\n",
    "            for info in rv_name:\n",
    "              rv_name=info.get_text().strip()\n",
    "\n",
    "            # 리뷰어 랭킹\n",
    "            rv_rank = soup3.find_all('span', {\"class\":\"badge-item top-number\"})   # [Ctrl + Shift + I]로 코드 확인 가능\n",
    "            for info in rv_rank:\n",
    "              rv_rank=info.get_text().strip()\n",
    "\n",
    "            # 리뷰어 피부타입\n",
    "            rv_type = soup3.find_all('li', {\"class\":\"list-item\"})   # [Ctrl + Shift + I]로 코드 확인 가능\n",
    "            type_list=[]\n",
    "            for info in rv_type:\n",
    "              type_list.append(info.get_text().strip())\n",
    "\n",
    "            # 리뷰어 도움/팔로워/팔로잉 \n",
    "            help_num=int(soup3.select('.reviewer-profile-info__bottom.reviewer-data-info>.reviewer-data-info__list')[0].select('.num')[0].text.strip().replace(',',''))\n",
    "            follower_num=int(soup3.select('.reviewer-profile-info__bottom.reviewer-data-info>.reviewer-data-info__list')[1].select('.num')[0].text.strip().replace(',',''))\n",
    "            following_num=int(soup3.select('.reviewer-profile-info__bottom.reviewer-data-info>.reviewer-data-info__list')[2].select('.num')[0].text.strip().replace(',',''))\n",
    "\n",
    "            # 리뷰어 누적 리뷰수 → 문제 있음(필요없는 부분 있음)\n",
    "            rv_num = soup3.find('div', {\"class\":\"reviewer-profile-content__header\"})   # [Ctrl + Shift + I]로 코드 확인 가능\n",
    "            rv_num=rv_num.select('div>span')[0].text.strip()\n",
    "\n",
    "            reviews=soup3.select('.rw-box')\n",
    "            review_info=[]\n",
    "            for review in reviews:\n",
    "                brand=review.select('.rw-box-figcaption__brand') # 브랜드\n",
    "                for info in brand:\n",
    "                    brand=info.text.strip()\n",
    "\n",
    "                product_name=review.select('.rw-box-figcaption__name') #제품 이름\n",
    "                for info in product_name:\n",
    "                    product_name=info.text\n",
    "\n",
    "                product_option=review.select('.rw-box-figcaption__sub') # 제품 옵션\n",
    "                for info in product_option:\n",
    "                  product_option=info.text.strip()\n",
    "\n",
    "                review_point=review.select('.point')[0].text.strip() #리뷰 평점\n",
    "                review_date=review.select('.review_point_text')[0].text.strip() #리뷰 작성일 \n",
    "                review_text=review.select('.rw-box__description')[0].text.strip() #리뷰 내용\n",
    "                review_referral=int(review.select('.rw-box__help .num')[0].text.strip()) #리뷰 추천수\n",
    "                review_info.append([brand,product_name, product_option, review_point, review_date, review_text, review_referral])\n",
    "\n",
    "            review_df=pd.DataFrame(review_info, columns=['brand','product_name','product_option','review_point','review_date','review_text','review_referral'])\n",
    "\n",
    "            review_df['user_name']=rv_name\n",
    "            review_df['user_rank']=str(rv_rank)\n",
    "            review_df['user_type']=str(type_list)\n",
    "            review_df['user_help_num']=help_num\n",
    "            review_df['user_follower_num']=follower_num\n",
    "            review_df['user_following_num']=following_num\n",
    "            \n",
    "            review_data=pd.concat([review_data, review_df])\n",
    "    return review_data\n"
   ]
  },
  {
   "attachments": {},
   "cell_type": "markdown",
   "id": "3275aa78",
   "metadata": {},
   "source": [
    "### 양이 많기 때문에 나눠서 진행"
   ]
  },
  {
   "cell_type": "code",
   "execution_count": null,
   "id": "4cb08b16",
   "metadata": {
    "scrolled": false
   },
   "outputs": [
    {
     "data": {
      "text/plain": [
       "36763"
      ]
     },
     "execution_count": 8,
     "metadata": {},
     "output_type": "execute_result"
    }
   ],
   "source": [
    "len(user_list)"
   ]
  },
  {
   "cell_type": "code",
   "execution_count": null,
   "id": "54a93489",
   "metadata": {},
   "outputs": [],
   "source": [
    "user_list1_1=user_list[:500]\n",
    "user_list1_2=user_list[500:1500]\n",
    "user_list1_3=user_list[1500:4000]\n",
    "user_list2=user_list[4000:8000]\n",
    "user_list3=user_list[8000:12000]\n",
    "user_list4=user_list[12000:16000]\n",
    "user_list5=user_list[16000:20000]\n",
    "user_list6=user_list[20000:24000]\n",
    "user_list7=user_list[24000:28000]\n",
    "user_list8=user_list[28000:32000]\n",
    "user_list9=user_list[32000:]"
   ]
  },
  {
   "cell_type": "code",
   "execution_count": null,
   "id": "76d8f4ae",
   "metadata": {
    "scrolled": true
   },
   "outputs": [
    {
     "name": "stderr",
     "output_type": "stream",
     "text": [
      "  1%|█                                                                             | 13/1000 [02:15<3:14:48, 11.84s/it]"
     ]
    }
   ],
   "source": [
    "review_data1_2=user_review_crawling(user_list1_2)"
   ]
  },
  {
   "cell_type": "code",
   "execution_count": null,
   "id": "b11157a1",
   "metadata": {},
   "outputs": [],
   "source": [
    "review_data1_2.reset_index(inplace=True, drop=True)"
   ]
  },
  {
   "cell_type": "code",
   "execution_count": null,
   "id": "09ec59cb",
   "metadata": {},
   "outputs": [],
   "source": [
    "review_data1_2.to_csv('user_review_data/review_data1_2.csv', index=False)"
   ]
  }
 ],
 "metadata": {
  "kernelspec": {
   "display_name": "Python 3 (ipykernel)",
   "language": "python",
   "name": "python3"
  },
  "language_info": {
   "codemirror_mode": {
    "name": "ipython",
    "version": 3
   },
   "file_extension": ".py",
   "mimetype": "text/x-python",
   "name": "python",
   "nbconvert_exporter": "python",
   "pygments_lexer": "ipython3",
   "version": "3.9.12"
  },
  "toc": {
   "base_numbering": 1,
   "nav_menu": {},
   "number_sections": true,
   "sideBar": true,
   "skip_h1_title": false,
   "title_cell": "Table of Contents",
   "title_sidebar": "Contents",
   "toc_cell": false,
   "toc_position": {},
   "toc_section_display": true,
   "toc_window_display": false
  }
 },
 "nbformat": 4,
 "nbformat_minor": 5
}
